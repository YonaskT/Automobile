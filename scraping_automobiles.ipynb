{
 "cells": [
  {
   "cell_type": "code",
   "execution_count": 2,
   "metadata": {},
   "outputs": [],
   "source": [
    "import pandas as pd \n",
    "from bs4 import BeautifulSoup\n",
    "import requests"
   ]
  },
  {
   "cell_type": "code",
   "execution_count": 189,
   "metadata": {},
   "outputs": [],
   "source": [
    "website='https://www.autouncle.se/en/cars_search'"
   ]
  },
  {
   "cell_type": "code",
   "execution_count": 190,
   "metadata": {},
   "outputs": [],
   "source": [
    "response = requests.get(website)\n"
   ]
  },
  {
   "cell_type": "code",
   "execution_count": 191,
   "metadata": {},
   "outputs": [
    {
     "data": {
      "text/plain": [
       "200"
      ]
     },
     "execution_count": 191,
     "metadata": {},
     "output_type": "execute_result"
    }
   ],
   "source": [
    "response.status_code\n"
   ]
  },
  {
   "cell_type": "code",
   "execution_count": 192,
   "metadata": {},
   "outputs": [],
   "source": [
    "#soup object\n",
    "soup = BeautifulSoup(response.content, 'html.parser')\n"
   ]
  },
  {
   "cell_type": "markdown",
   "metadata": {},
   "source": [
    "### Results"
   ]
  },
  {
   "cell_type": "code",
   "execution_count": 193,
   "metadata": {},
   "outputs": [],
   "source": [
    "results = soup.find_all('div', {'class' : 'styles_listing-item__KWJkL'})\n"
   ]
  },
  {
   "cell_type": "code",
   "execution_count": 194,
   "metadata": {},
   "outputs": [
    {
     "data": {
      "text/plain": [
       "25"
      ]
     },
     "execution_count": 194,
     "metadata": {},
     "output_type": "execute_result"
    }
   ],
   "source": [
    "len(results)\n"
   ]
  },
  {
   "cell_type": "markdown",
   "metadata": {},
   "source": [
    "##### Target necessary data\n"
   ]
  },
  {
   "cell_type": "markdown",
   "metadata": {},
   "source": [
    "-body\n",
    "-model\n",
    "-fuel\n",
    "-mileage\n",
    "-gearbox\n",
    "-price"
   ]
  },
  {
   "cell_type": "markdown",
   "metadata": {},
   "source": [
    "### Name"
   ]
  },
  {
   "cell_type": "code",
   "execution_count": 195,
   "metadata": {},
   "outputs": [
    {
     "data": {
      "text/plain": [
       "'Kia e-Niro Advance 64 kWh Moms 1 Ägare'"
      ]
     },
     "execution_count": 195,
     "metadata": {},
     "output_type": "execute_result"
    }
   ],
   "source": [
    "results[0].find('a',attrs={'class':'styles_headline__TnlnI'}).get_text()"
   ]
  },
  {
   "cell_type": "markdown",
   "metadata": {},
   "source": [
    "### Price +Location Container"
   ]
  },
  {
   "cell_type": "code",
   "execution_count": 196,
   "metadata": {},
   "outputs": [
    {
     "data": {
      "text/plain": [
       "'239900krSuper priceYou save 42100kr504 31 Borås, Västra Götaland'"
      ]
     },
     "execution_count": 196,
     "metadata": {},
     "output_type": "execute_result"
    }
   ],
   "source": [
    "results[0].find('div',{'class':'styles_price-location-container__jw_7K'}).get_text().replace('\\xa0','')"
   ]
  },
  {
   "cell_type": "markdown",
   "metadata": {},
   "source": [
    "### Price"
   ]
  },
  {
   "cell_type": "code",
   "execution_count": 197,
   "metadata": {},
   "outputs": [
    {
     "data": {
      "text/plain": [
       "'239900kr'"
      ]
     },
     "execution_count": 197,
     "metadata": {},
     "output_type": "execute_result"
    }
   ],
   "source": [
    "results[0].find('button',{'class':'styles_price__X069_'}).get_text().replace('\\xa0','')"
   ]
  },
  {
   "cell_type": "markdown",
   "metadata": {},
   "source": [
    "### Location"
   ]
  },
  {
   "cell_type": "code",
   "execution_count": 198,
   "metadata": {},
   "outputs": [
    {
     "data": {
      "text/plain": [
       "'504 31 Borås, Västra Götaland'"
      ]
     },
     "execution_count": 198,
     "metadata": {},
     "output_type": "execute_result"
    }
   ],
   "source": [
    "results[0].find('a',{'class':'styles_location-container__dnoXo'}).get_text()"
   ]
  },
  {
   "cell_type": "code",
   "execution_count": null,
   "metadata": {},
   "outputs": [],
   "source": []
  },
  {
   "cell_type": "code",
   "execution_count": 199,
   "metadata": {},
   "outputs": [
    {
     "data": {
      "text/plain": [
       "'20215855 milElectric≈ 455 kmAutomatic150 kW (204 HP)15.9 Kwh/100 km0 g CO2/km comb.504 31 Borås, Västra Götaland'"
      ]
     },
     "execution_count": 199,
     "metadata": {},
     "output_type": "execute_result"
    }
   ],
   "source": [
    "results[0].find('div',{'class':'styles_highlighted-attributes-container__EH8XY'}).get_text().replace('\\xa0','')"
   ]
  },
  {
   "cell_type": "code",
   "execution_count": 200,
   "metadata": {},
   "outputs": [
    {
     "data": {
      "text/plain": [
       "'2023850 milElectric≈ 490 kmAutomatic358 kW (487 HP)21.2 Kwh/100 km0 g CO2/km comb.'"
      ]
     },
     "execution_count": 200,
     "metadata": {},
     "output_type": "execute_result"
    }
   ],
   "source": [
    "results[1].find('a',{'class':'styles_highlighted-attributes__hsHfa'}).get_text()"
   ]
  },
  {
   "cell_type": "code",
   "execution_count": 202,
   "metadata": {},
   "outputs": [
    {
     "data": {
      "text/plain": [
       "'2021'"
      ]
     },
     "execution_count": 202,
     "metadata": {},
     "output_type": "execute_result"
    }
   ],
   "source": [
    "#Model year\n",
    "results[0].find_all('span',{'class':'styles_text__eMFHA'})[1].get_text()"
   ]
  },
  {
   "cell_type": "code",
   "execution_count": 203,
   "metadata": {},
   "outputs": [
    {
     "data": {
      "text/plain": [
       "'Electric'"
      ]
     },
     "execution_count": 203,
     "metadata": {},
     "output_type": "execute_result"
    }
   ],
   "source": [
    "#mileage\n",
    "results[10].find_all('span',{'class':'styles_text__eMFHA'})[2].get_text().replace('\\xa0','')"
   ]
  },
  {
   "cell_type": "code",
   "execution_count": 128,
   "metadata": {},
   "outputs": [
    {
     "data": {
      "text/plain": [
       "'Electric'"
      ]
     },
     "execution_count": 128,
     "metadata": {},
     "output_type": "execute_result"
    }
   ],
   "source": [
    "#Fuel Type\n",
    "results[0].find_all('span',{'class':'styles_text__eMFHA'})[3].get_text()"
   ]
  },
  {
   "cell_type": "code",
   "execution_count": 204,
   "metadata": {},
   "outputs": [
    {
     "data": {
      "text/plain": [
       "'≈ 455 km'"
      ]
     },
     "execution_count": 204,
     "metadata": {},
     "output_type": "execute_result"
    }
   ],
   "source": [
    "#Gearbox\n",
    "results[0].find_all('span',{'class':'styles_text__eMFHA'})[4].get_text()"
   ]
  },
  {
   "cell_type": "code",
   "execution_count": 120,
   "metadata": {},
   "outputs": [
    {
     "data": {
      "text/plain": [
       "[<span class=\"styles_text__eMFHA\">1 / 4</span>,\n",
       " <span class=\"styles_text__eMFHA\">2022</span>,\n",
       " <span class=\"styles_text__eMFHA\">3 608 mil</span>,\n",
       " <span class=\"styles_text__eMFHA\">Electric</span>,\n",
       " <span class=\"styles_text__eMFHA\">Automatic</span>,\n",
       " <span class=\"styles_text__eMFHA\">135 kW (184 HP)</span>,\n",
       " <span class=\"styles_text__eMFHA\">0 g CO2/km comb.</span>,\n",
       " <span class=\"styles_text__eMFHA\">802 57 Gävle, Gävleborg</span>,\n",
       " <span class=\"styles_text__eMFHA\">You save 19 300 kr</span>,\n",
       " <span class=\"styles_text__eMFHA\">802 57 Gävle, Gävleborg</span>]"
      ]
     },
     "execution_count": 120,
     "metadata": {},
     "output_type": "execute_result"
    }
   ],
   "source": [
    "results[0].find_all('span',{'class':'styles_text__eMFHA'})"
   ]
  },
  {
   "cell_type": "code",
   "execution_count": 144,
   "metadata": {},
   "outputs": [
    {
     "data": {
      "text/plain": [
       "[<span class=\"styles_text__eMFHA\">1 / 4</span>,\n",
       " <span class=\"styles_text__eMFHA\">2023</span>,\n",
       " <span class=\"styles_text__eMFHA\">2 500 mil</span>,\n",
       " <span class=\"styles_text__eMFHA\">Electric</span>,\n",
       " <span class=\"styles_text__eMFHA\">≈ 519 km</span>,\n",
       " <span class=\"styles_text__eMFHA\">Automatic</span>,\n",
       " <span class=\"styles_text__eMFHA\">400 kW (544 HP)</span>,\n",
       " <span class=\"styles_text__eMFHA\">18.1 Kwh/100 km</span>,\n",
       " <span class=\"styles_text__eMFHA\">0 g CO2/km comb.</span>,\n",
       " <span class=\"styles_text__eMFHA\">164 40 Kista, Stockholm</span>,\n",
       " <span class=\"styles_text__eMFHA\">You save 30 300 kr</span>,\n",
       " <span class=\"styles_text__eMFHA\">164 40 Kista, Stockholm</span>]"
      ]
     },
     "execution_count": 144,
     "metadata": {},
     "output_type": "execute_result"
    }
   ],
   "source": [
    "results[1].find_all('span',{'class':'styles_text__eMFHA'})"
   ]
  },
  {
   "cell_type": "code",
   "execution_count": 147,
   "metadata": {},
   "outputs": [
    {
     "data": {
      "text/plain": [
       "'2023'"
      ]
     },
     "execution_count": 147,
     "metadata": {},
     "output_type": "execute_result"
    }
   ],
   "source": [
    "results[1].find_all('span',{'class':'styles_text__eMFHA'})[1].get_text()"
   ]
  },
  {
   "cell_type": "code",
   "execution_count": 221,
   "metadata": {},
   "outputs": [
    {
     "data": {
      "text/plain": [
       "(3275, 8)"
      ]
     },
     "execution_count": 221,
     "metadata": {},
     "output_type": "execute_result"
    }
   ],
   "source": [
    "name=[]\n",
    "price=[]\n",
    "location=[]\n",
    "model_year=[]\n",
    "mileage=[]\n",
    "fuel=[]\n",
    "gearbox=[]\n",
    "gearbox2=[]\n",
    "#\n",
    "for page in range(1,300):\n",
    "    page += 1\n",
    "    headers = {\"User-Agent\": \"Mozilla/5.0 (Macintosh; Intel Mac OS X 10_15_7) AppleWebKit/537.36 (KHTML, like Gecko) Chrome/125.0.0.0 Safari/537.36\", \"Accept-Encoding\":\"gzip, deflate\", \"Accept\":\"text/html,application/xhtml+xml,application/xml;q=0.9,*/*;q=0.8\", \"DNT\":\"1\",\"Connection\":\"close\", \"Upgrade-Insecure-Requests\":\"1\"}\n",
    "    url= 'https://www.autouncle.se/en/cars_search'+'?page='+str(page)\n",
    "    # get a request\n",
    "    response = requests.get(url,headers=headers)\n",
    "    # soup object\n",
    "    soup = BeautifulSoup(response.text, 'html.parser')\n",
    "    result=soup.find_all('div',attrs={'class':'styles_listing-item__KWJkL'})\n",
    "    \n",
    "    for car in result:\n",
    "        #Name\n",
    "        try:\n",
    "            name.append(car.find('a',attrs={'class':'styles_headline__TnlnI'}).get_text())\n",
    "        except:\n",
    "            name.append('n/a')\n",
    "        #Price\n",
    "        try:\n",
    "            price.append(car.find('button',{'class':'styles_price__X069_'}).get_text().replace('\\xa0',''))\n",
    "        except:\n",
    "            price.append('n/a')\n",
    "        #Location\n",
    "        try:\n",
    "            location.append(car.find('a',{'class':'styles_location-container__dnoXo'}).get_text())\n",
    "        except:\n",
    "            location.append('n/a')\n",
    "        #Model Year\n",
    "        try:\n",
    "            model_year.append(car.find_all('span',{'class':'styles_text__eMFHA'})[1].get_text())\n",
    "        except:\n",
    "            model_year.append('n/a')   \n",
    "        \n",
    "        #Mileage\n",
    "        try:\n",
    "            mileage.append(car.find_all('span',{'class':'styles_text__eMFHA'})[2].get_text().replace('\\xa0',''))\n",
    "        except:\n",
    "            mileage.append('n/a')\n",
    "        #Fuel Type\n",
    "        try:\n",
    "            fuel.append(car.find_all('span',{'class':'styles_text__eMFHA'})[3].get_text())\n",
    "        except:\n",
    "            fuel.append('n/a')\n",
    "        #Gearbox\n",
    "        try:\n",
    "            gearbox.append(car.find_all('span',{'class':'styles_text__eMFHA'})[4].get_text())\n",
    "        except:\n",
    "            gearbox.append('n/a')\n",
    "        #Gearbox2\n",
    "        try:\n",
    "            gearbox2.append(car.find_all('span',{'class':'styles_text__eMFHA'})[5].get_text())\n",
    "        except:\n",
    "            gearbox2.append('n/a')\n",
    "        \n",
    "                                 \n",
    "cars=pd.DataFrame({'Name':name,'Price':price,'Location':location,'Model_Year':model_year,'Mileage':mileage,'Fuel_Type':fuel,'Gearbox':gearbox,'Gearbox2':gearbox2})\n",
    "cars.shape      "
   ]
  },
  {
   "cell_type": "code",
   "execution_count": 470,
   "metadata": {},
   "outputs": [],
   "source": [
    "cars.to_csv('cars.csv',index=False)\n"
   ]
  },
  {
   "cell_type": "code",
   "execution_count": null,
   "metadata": {},
   "outputs": [],
   "source": []
  }
 ],
 "metadata": {
  "kernelspec": {
   "display_name": "Python 3 (ipykernel)",
   "language": "python",
   "name": "python3"
  },
  "language_info": {
   "codemirror_mode": {
    "name": "ipython",
    "version": 3
   },
   "file_extension": ".py",
   "mimetype": "text/x-python",
   "name": "python",
   "nbconvert_exporter": "python",
   "pygments_lexer": "ipython3",
   "version": "3.11.4"
  }
 },
 "nbformat": 4,
 "nbformat_minor": 2
}
